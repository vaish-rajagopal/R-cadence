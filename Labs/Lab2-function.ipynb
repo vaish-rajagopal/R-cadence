{
 "cells": [
  {
   "cell_type": "markdown",
   "metadata": {},
   "source": [
    "\n",
    "# Functions in R\n",
    "\n"
   ]
  },
  {
   "cell_type": "code",
   "execution_count": null,
   "metadata": {
    "autoscroll": false,
    "collapsed": true
   },
   "outputs": [],
   "source": [
    "library(dplyr)\n",
    "load(url(\"http://alizaidi.blob.core.windows.net/training/taxi_df.RData\"))\n",
    "(taxi_df <- tbl_df(taxi_df))"
   ]
  },
  {
   "cell_type": "markdown",
   "metadata": {},
   "source": [
    "\n",
    "The goal of this lab is to teach you how to write functions in R that are easy to use and debug.\n",
    "\n",
    "## Components of a Function\n",
    "\n",
    "There are three major components of a function:\n",
    "\n",
    "1. The arguments of a function\n",
    "2. The body of a function\n",
    "3. It's return value/side effects *(generally, this third principle should actually be the environment)*\n",
    "\n"
   ]
  },
  {
   "cell_type": "code",
   "execution_count": null,
   "metadata": {
    "Rmd_chunk_options": "eval = FALSE",
    "autoscroll": false,
    "collapsed": true
   },
   "outputs": [],
   "source": [
    "\n",
    "any_function <- function(args1, args2, ...) {\n",
    "\n",
    "  #\n",
    "  # BODY\n",
    "  #\n",
    "\n",
    "  return(value)\n",
    "\n",
    "}\n",
    ""
   ]
  },
  {
   "cell_type": "markdown",
   "metadata": {},
   "source": [
    "\n",
    "\n",
    "## Example 1 - Filter on Neighborhoods, then Model\n",
    "\n",
    "Suppose we wanted to calculate a linear model of `tip_amount` as a function of `trip_distance`. As we saw before, this is easy to do:\n",
    "\n"
   ]
  },
  {
   "cell_type": "code",
   "execution_count": null,
   "metadata": {
    "autoscroll": false,
    "collapsed": true
   },
   "outputs": [],
   "source": [
    "tip_lm <- lm(tip_amount ~ trip_distance, data = taxi_df)\n",
    "summary(tip_lm)"
   ]
  },
  {
   "cell_type": "markdown",
   "metadata": {},
   "source": [
    "\n",
    "But suppose we now want to calculate this model for a specific `pickup_nhood`. For instance, let's calculate it for the _Upper West Side_.\n",
    "\n"
   ]
  },
  {
   "cell_type": "code",
   "execution_count": null,
   "metadata": {
    "autoscroll": false,
    "collapsed": true
   },
   "outputs": [],
   "source": [
    "\n",
    "tip_uws <- lm(tip_amount ~ trip_distance,\n",
    "              data = filter(taxi_df, pickup_nhood == \"Upper West Side\"))\n",
    ""
   ]
  },
  {
   "cell_type": "markdown",
   "metadata": {},
   "source": [
    "\n",
    "But now say we want to calculate that model but for the _Upper East Side_. Should we copy and paste the code from above and change the last parameter? Sure, but that's going to get annoying if we have to do it more than once. R is lazy, and so am I!\n",
    "\n",
    "### Exercise 1: Create a Function to Estimate a Model For a Specific Neighborhood\n",
    "\n",
    "Before you go out and create your function, ask yourself the important questions:\n",
    "\n",
    "1. What arguments should your function take?\n",
    "2. What will go in its body?\n",
    "3. What will be the return value?\n",
    "\n"
   ]
  },
  {
   "cell_type": "code",
   "execution_count": null,
   "metadata": {
    "autoscroll": false,
    "collapsed": true
   },
   "outputs": [],
   "source": [
    "## Starter code\n",
    "\n",
    "est_lm_nhood <- function(nhood) {\n",
    "\n",
    "  ##\n",
    "\n",
    "  # return(something)\n",
    "\n",
    "}\n",
    ""
   ]
  },
  {
   "cell_type": "markdown",
   "metadata": {},
   "source": [
    "\n",
    "# Digression 1 - Converting from Types\n",
    "\n",
    "Before we jump into our next example, it is worthwhile to return to data types in R, and especially focus on conversion of types.\n",
    "\n",
    "Suppose I have a vector of character variables:\n",
    "\n"
   ]
  },
  {
   "cell_type": "code",
   "execution_count": null,
   "metadata": {
    "autoscroll": false,
    "collapsed": true
   },
   "outputs": [],
   "source": [
    "\n",
    "char_vector <- c(\"batman\", \"superman\", \"magneto\", \"ironman\", \"deadpool\")\n",
    "class(char_vector)"
   ]
  },
  {
   "cell_type": "markdown",
   "metadata": {},
   "source": [
    "\n",
    "If I wanted to conver this vector to a different _type_, say factors, I can try and use a helper function `as.factor`.\n",
    "\n"
   ]
  },
  {
   "cell_type": "code",
   "execution_count": null,
   "metadata": {
    "autoscroll": false,
    "collapsed": true
   },
   "outputs": [],
   "source": [
    "\n",
    "(factor_vector <- as.factor(char_vector))\n",
    "class(factor_vector)\n",
    "class(as.character(factor_vector))\n",
    ""
   ]
  },
  {
   "cell_type": "markdown",
   "metadata": {},
   "source": [
    "\n",
    "Principle 1 from Day 1: _everything that exists in R is an object_. That means that anything that exists in R is some class (may be many classes!), and if we want to change that class, we can try and find an appropraite `as.otherclass` function for it.\n",
    "\n",
    "## Example 2 - Create Your Own Formula Function\n",
    "\n",
    "That means we can even create rather complex objects by simply chaining together easier functions. For instance, the formula object that is needed in all modeling functions can be created programatically from character functions:\n",
    "\n",
    "\n"
   ]
  },
  {
   "cell_type": "code",
   "execution_count": null,
   "metadata": {
    "autoscroll": false,
    "collapsed": true
   },
   "outputs": [],
   "source": [
    "\n",
    "dep_var <- \"tip_amoount\"\n",
    "indep_vars <- c(\"trip_distance\", \"passenger_count\", \"pickup_nhood\")\n",
    "\n",
    "## The paste function will paste together objects based on a separator\n",
    "## It has to important arguments: collapse and sep\n",
    "## Use collapse when you want to take a vector and paste all its elements into 1 element\n",
    "## Use sep when you have multiple vectors (or scalars: vectors of length 1) and paste them together\n",
    "(rhs <- paste(indep_vars, collapse = \" + \"))\n",
    ""
   ]
  },
  {
   "cell_type": "markdown",
   "metadata": {},
   "source": [
    "\n",
    "### Exercise 2: Modeling Function from Strings\n",
    "\n",
    "You have all the pieces: create your modeling function\n",
    "\n"
   ]
  },
  {
   "cell_type": "code",
   "execution_count": null,
   "metadata": {
    "autoscroll": false,
    "collapsed": true
   },
   "outputs": [],
   "source": [
    "\n",
    "make_model <- function(depvar, indepvars) {\n",
    "\n",
    "  # body\n",
    "\n",
    "  # return value\n",
    "\n",
    "\n",
    "}\n",
    ""
   ]
  },
  {
   "cell_type": "markdown",
   "metadata": {},
   "source": [
    "\n",
    "## Example 3 - Generalize Your Functions\n",
    "\n",
    "With Example 2 completed, we can generalize example 1. In particular, we can now add a new argument to example one for the formula, and use our `make_model` function to create that argument's value.\n",
    "\n",
    "\n",
    "### Exercise 3: Generalize `est_lm_nhood`\n",
    "\n",
    "\n"
   ]
  },
  {
   "cell_type": "code",
   "execution_count": null,
   "metadata": {
    "autoscroll": false,
    "collapsed": true
   },
   "outputs": [],
   "source": [
    "\n",
    "est_lm_nhood <- function(nhood, model_form) {\n",
    "\n",
    "  ## Body\n",
    "\n",
    "  ## return value\n",
    "\n",
    "}\n",
    ""
   ]
  },
  {
   "cell_type": "markdown",
   "metadata": {},
   "source": [
    "\n",
    "\n",
    "# Functionals\n",
    "\n",
    "A functional is simply a function that takes another function as one of it's arguments. Strictly speaking, functionals should take a function as it's primary input, and output a single vector/list.\n",
    "\n",
    "## Functional for Many Models\n",
    "\n",
    "Suppose we want to use our `est_lm_hood` function to estimate not one model, but several models for different values of `pickup_nhood`. We could create a `for` loop, and iterate over a vector of `pickup_nhood` columns. However, you have probably heard that for loops are signs of weakness.\n",
    "\n",
    "Instead, you can use the most popular functional in R: `lapply`.\n",
    "\n",
    "### How `lapply` works\n",
    "\n",
    "`lapply` is actually a very simple functional, and is absolutely worth learning because it makes functional programming in R easy and effective.\n",
    "\n",
    "`lapply` works by taking a list and a function as its inputs, and then applies the function to each element of the list.\n",
    "\n",
    "![](http://adv-r.had.co.nz/diagrams/lapply.png)\n",
    "\n",
    "### `lapply` Example\n",
    "\n"
   ]
  },
  {
   "cell_type": "code",
   "execution_count": null,
   "metadata": {
    "autoscroll": false,
    "collapsed": true
   },
   "outputs": [],
   "source": [
    "\n",
    "summarise_col <- function(colname, df = taxi_df) {\n",
    "\n",
    "  return(summary(df[[colname]]))\n",
    "\n",
    "}\n",
    "\n",
    "lapply(list(\"tip_amount\", \"fare_amount\"), summarise_col)\n",
    "# same as\n",
    "lapply(c(\"tip_amount\", \"fare_amount\"), summarise_col)\n",
    ""
   ]
  },
  {
   "cell_type": "markdown",
   "metadata": {},
   "source": [
    "\n",
    "### Exercise 4 - Use `lapply` to Estimate Many Models In One Call\n",
    "\n",
    "In this exercise, take the `lapply` function, and use `est_lm_hood` as the \"functional\" argument. Make a list/vector argument of neighborhood names.\n",
    "\n",
    "\n",
    "# Debugging\n",
    "\n",
    "Your functions will not be perfect the first time you write them. They will have bugs.\n",
    "\n",
    "The best way to become a better programmer and human being is to write buggy software and then stay up at night debugging.\n",
    "\n",
    "## Debugging Example\n",
    "\n",
    "Let's say we use an incorrect column name inside of `lapply` in the chunk above:\n",
    "\n"
   ]
  },
  {
   "cell_type": "code",
   "execution_count": null,
   "metadata": {
    "autoscroll": false,
    "collapsed": true
   },
   "outputs": [],
   "source": [
    "\n",
    "# misspelling, get strange zero\n",
    "lapply(c(\"tp_amount\", \"fare_amount\"), summarise_col)\n",
    "\n",
    "debugonce(summarise_col)\n",
    "lapply(c(\"tp_amount\", \"fare_amount\"), summarise_col)\n",
    ""
   ]
  },
  {
   "cell_type": "markdown",
   "metadata": {},
   "source": [
    "\n",
    "# purrr\n",
    "\n",
    "If you are eager to stick to the tidyverse of packages, take a look at the [purrr](http://r4ds.had.co.nz/iteration.html#the-map-functions).\n",
    "\n",
    "## Map function\n",
    "\n",
    "The `map` function in `purrr` is very similar to the `lapply` function. The main differnece is that `purrr` prefers taking a `data.frame` as it's first argument, and applies a function to each element/column of the data.frame.\n",
    "\n",
    "For example, if I wanted five point summaries of all the columns in `taxi_df`, I can use `purrr`'s `map` function.\n",
    "\n",
    "There's also a handy function called `keep`, which I mainly use as a way of doing `select` but based on column types rather than names/indices. This way, I can select numeric columns only.\n",
    "\n",
    "\n"
   ]
  },
  {
   "cell_type": "code",
   "execution_count": null,
   "metadata": {
    "autoscroll": false,
    "collapsed": true
   },
   "outputs": [],
   "source": [
    "\n",
    "library(purrr)\n",
    "\n",
    "map(taxi_df, summary)\n",
    "\n",
    "taxi_df %>% map(summary)\n",
    "\n",
    "taxi_df %>% keep(is.numeric) %>% map(summary)\n",
    ""
   ]
  },
  {
   "cell_type": "markdown",
   "metadata": {},
   "source": [
    "\n",
    "\n",
    "## Other useful map functions\n",
    "\n",
    "The main advantage of `purrr` are the other cousins of `map`: `map_dbl`, `map_chr`, `map_if`, etc...\n",
    "\n",
    "\n"
   ]
  },
  {
   "cell_type": "code",
   "execution_count": null,
   "metadata": {
    "autoscroll": false,
    "collapsed": true
   },
   "outputs": [],
   "source": [
    "\n",
    "taxi_df %>% keep(is.numeric) %>% map(mean)\n",
    "taxi_df %>% keep(is.numeric) %>% map_dbl(mean)\n",
    ""
   ]
  },
  {
   "cell_type": "markdown",
   "metadata": {},
   "source": [
    "\n",
    "\n"
   ]
  }
 ],
 "metadata": {
  "Rmd_header": {
   "author": "Ali Zaidi",
   "date": "9/20/2016",
   "output": {
    "html_document": {
     "toc": true
    }
   },
   "title": "Lab 1 - Writing R Functions"
  },
  "kernelspec": {
   "display_name": "R",
   "language": "R",
   "name": "ir"
  },
  "language_info": {
   "codemirror_mode": "r",
   "file_extension": ".r",
   "mimetype": "text/x-r-source",
   "name": "R",
   "pygments_lexer": "r"
  }
 },
 "nbformat": 4,
 "nbformat_minor": 0
}
