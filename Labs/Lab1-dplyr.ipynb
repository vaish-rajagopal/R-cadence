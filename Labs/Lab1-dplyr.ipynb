{
 "cells": [
  {
   "cell_type": "markdown",
   "metadata": {},
   "source": [
    "## Lab 1 - `dplyr` examples"
   ]
  },
  {
   "cell_type": "code",
   "execution_count": 5,
   "metadata": {
    "collapsed": true
   },
   "outputs": [],
   "source": [
    "options(jupyter.rich_display=FALSE)"
   ]
  },
  {
   "cell_type": "code",
   "execution_count": 1,
   "metadata": {
    "collapsed": false
   },
   "outputs": [
    {
     "name": "stderr",
     "output_type": "stream",
     "text": [
      "\n",
      "Attaching package: ‘dplyr’\n",
      "\n",
      "The following objects are masked from ‘package:stats’:\n",
      "\n",
      "    filter, lag\n",
      "\n",
      "The following objects are masked from ‘package:base’:\n",
      "\n",
      "    intersect, setdiff, setequal, union\n",
      "\n"
     ]
    }
   ],
   "source": [
    "library(dplyr)\n",
    "library(stringr)\n",
    "load(url(\"http://alizaidi.blob.core.windows.net/training/taxi_df.RData\"))"
   ]
  },
  {
   "cell_type": "code",
   "execution_count": 2,
   "metadata": {
    "collapsed": false
   },
   "outputs": [
    {
     "data": {
      "text/html": [
       "'taxi_df'"
      ],
      "text/latex": [
       "'taxi_df'"
      ],
      "text/markdown": [
       "'taxi_df'"
      ],
      "text/plain": [
       "[1] \"taxi_df\""
      ]
     },
     "execution_count": 2,
     "metadata": {},
     "output_type": "execute_result"
    }
   ],
   "source": [
    "ls()"
   ]
  },
  {
   "cell_type": "code",
   "execution_count": 3,
   "metadata": {
    "collapsed": false
   },
   "outputs": [
    {
     "data": {
      "text/html": [
       "<ol class=list-inline>\n",
       "\t<li>'tbl_df'</li>\n",
       "\t<li>'tbl'</li>\n",
       "\t<li>'data.frame'</li>\n",
       "</ol>\n"
      ],
      "text/latex": [
       "\\begin{enumerate*}\n",
       "\\item 'tbl_df'\n",
       "\\item 'tbl'\n",
       "\\item 'data.frame'\n",
       "\\end{enumerate*}\n"
      ],
      "text/markdown": [
       "1. 'tbl_df'\n",
       "2. 'tbl'\n",
       "3. 'data.frame'\n",
       "\n",
       "\n"
      ],
      "text/plain": [
       "[1] \"tbl_df\"     \"tbl\"        \"data.frame\""
      ]
     },
     "execution_count": 3,
     "metadata": {},
     "output_type": "execute_result"
    }
   ],
   "source": [
    "class(taxi_df)"
   ]
  },
  {
   "cell_type": "code",
   "execution_count": null,
   "metadata": {
    "collapsed": true
   },
   "outputs": [],
   "source": [
    "taxi_df <- taxi_df %>% mutate(tip_pct = tip_amount/fare_amount)"
   ]
  },
  {
   "cell_type": "code",
   "execution_count": 6,
   "metadata": {
    "collapsed": false
   },
   "outputs": [
    {
     "data": {
      "text/plain": [
       "# A tibble: 3,770,319 × 16\n",
       "   VendorID passenger_count trip_distance RateCodeID store_and_fwd_flag\n",
       "      <chr>           <int>         <dbl>      <chr>              <chr>\n",
       "1         1               1          1.80          1                  N\n",
       "2         1               2          0.90          1                  N\n",
       "3         1               1          0.90          1                  N\n",
       "4         1               1          0.30          1                  N\n",
       "5         2               1          0.96          1                  N\n",
       "6         2               1          2.01          1                  N\n",
       "7         2               3          3.14          1                  N\n",
       "8         1               1          0.50          1                  N\n",
       "9         2               1          0.67          1                  N\n",
       "10        2               1         15.20          2                  N\n",
       "# ... with 3,770,309 more rows, and 11 more variables: payment_type <chr>,\n",
       "#   fare_amount <dbl>, tip_amount <dbl>, tolls_amount <dbl>, pickup_hour <chr>,\n",
       "#   pickup_dow <chr>, dropoff_hour <chr>, dropoff_dow <chr>,\n",
       "#   pickup_nhood <chr>, dropoff_nhood <chr>, kSplits <chr>"
      ]
     },
     "execution_count": 6,
     "metadata": {},
     "output_type": "execute_result"
    }
   ],
   "source": [
    "taxi_df"
   ]
  },
  {
   "cell_type": "markdown",
   "metadata": {},
   "source": [
    "## Exploratory Data Analysis - Data Validation\n",
    "Let's see if we can find out anything about the different numeric fields, `tip_amount` and `fare_amount` and see if we can spot any outliers. \n",
    "How should we deal with them?"
   ]
  },
  {
   "cell_type": "code",
   "execution_count": 7,
   "metadata": {
    "collapsed": true
   },
   "outputs": [],
   "source": [
    "## Some useful functions\n",
    "\n",
    "# summary\n",
    "# quantile\n",
    "# ggplot() + geom_histogram\n",
    "# ggplot() + geom_density"
   ]
  },
  {
   "cell_type": "markdown",
   "metadata": {},
   "source": [
    "## Summarize data by payment type\n",
    "\n",
    "There is a payment type column that is an label for the type of payment used for the taxi ride.\n",
    "Let's see if we can find out anything strange about the various payment types."
   ]
  },
  {
   "cell_type": "code",
   "execution_count": 9,
   "metadata": {
    "collapsed": true
   },
   "outputs": [],
   "source": [
    "## some useful functions\n",
    "# group_by(payment_type) %>% summarise(tip_amount)\n",
    "# ggplot() + facet_wrap(~payment_type)"
   ]
  },
  {
   "cell_type": "markdown",
   "metadata": {},
   "source": [
    "## Two-table joins\n",
    "\n",
    "Let's see examples of the two-table functions in `dplyr`."
   ]
  },
  {
   "cell_type": "code",
   "execution_count": null,
   "metadata": {
    "collapsed": true
   },
   "outputs": [],
   "source": [
    "library(broom)\n",
    "taxi_coefs <- taxi_df %>% sample_n(10^5) %>%\n",
    "  group_by(dropoff_dow) %>%\n",
    "  do(tidy(lm(tip_pct ~ pickup_nhood + passenger_count + pickup_hour,\n",
    "     data = .), conf.int = TRUE)) %>% select(dropoff_dow, conf.low, conf.high)\n",
    "\n",
    "taxi_metrics <- taxi_df %>% sample_n(10^5) %>%\n",
    "  group_by(dropoff_dow) %>%\n",
    "  do(glance(lm(tip_pct ~ pickup_nhood + passenger_count + pickup_hour,\n",
    "     data = .)))\n"
   ]
  },
  {
   "cell_type": "markdown",
   "metadata": {},
   "source": [
    "Use the `left_join` function in `dplyr` to append the model metrics to the coefficients."
   ]
  },
  {
   "cell_type": "markdown",
   "metadata": {},
   "source": [
    "# `tidyr`\n",
    "\n",
    "The `tidyr` package is a very handy package for transforming data that is _wide_ into data that is **tall**.\n",
    "\n",
    "Take a look at the `tidyr` [cheatsheet](https://www.rstudio.com/wp-content/uploads/2015/02/data-wrangling-cheatsheet.pdf) and try to convert the coeffs data from _tall_ to **wide**"
   ]
  },
  {
   "cell_type": "code",
   "execution_count": null,
   "metadata": {
    "collapsed": true
   },
   "outputs": [],
   "source": []
  }
 ],
 "metadata": {
  "anaconda-cloud": {},
  "kernelspec": {
   "display_name": "R",
   "language": "R",
   "name": "ir"
  },
  "language_info": {
   "codemirror_mode": "r",
   "file_extension": ".r",
   "mimetype": "text/x-r-source",
   "name": "R",
   "pygments_lexer": "r",
   "version": "3.2.2"
  }
 },
 "nbformat": 4,
 "nbformat_minor": 0
}
