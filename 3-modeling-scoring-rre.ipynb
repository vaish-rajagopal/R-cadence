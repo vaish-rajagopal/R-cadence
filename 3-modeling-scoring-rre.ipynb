{
 "cells": [
  {
   "cell_type": "markdown",
   "metadata": {},
   "source": [
    "\n",
    "\n",
    "# Introduction\n",
    "\n",
    "## URL for Today\n",
    "\n",
    "Please refer to the github repository for course materials [github.com/akzaidi/R-cadence](https://github.com/akzaidi/R-cadence/)\n",
    "\n",
    "## Agenda\n",
    "\n",
    "- We will learn in this tutorial how to train and test models with the `RevoScaleR` package.\n",
    "- Use your knowledge of data manipulation to create **train** and **test** sets.\n",
    "- Use the modeling functions in `RevoScaleR` to train a model.\n",
    "- Use the `rxPredict` function to test/score a model.\n",
    "- We will see how you can score models on a variety of data sources.\n",
    "- Use a functional methodology, i.e., we will create functions to automate the modeling, validation, and scoring process.\n",
    "\n",
    "## Prerequisites\n",
    "\n",
    "- Understanding of `rxDataStep` and `xdfs`\n",
    "- Familiarity with `RevoScaleR` modeling and datastep functions: `rxLinMod`, `rxGlm`, `rxLogit`, `rxDTree`, `rxDForest`, `rxSplit`, and `rxPredict`\n",
    "- Understand how to write functions in R\n",
    "- Access to at least one interesting dataset\n",
    "\n",
    "## Typical Lifecycle\n",
    "\n",
    "<img src=\"images/revo-split-life-cycle.png\" width=\"893\" height=\"279px\" />\n",
    "\n",
    "Typical Modeling Lifecycle:\n",
    "\n",
    "- Start with a data set\n",
    "- Split into a training set and validation set(s)\n",
    "- Use the `ScaleR` modeling functions on the train set to estimate your model\n",
    "- Use `rxPredict` to validate/score your results\n",
    "\n",
    "## Mortgage Dataset\n",
    "\n",
    "- We will work with a mortgage dataset, which contains mortgage and credit profiles for various mortgage holders\n",
    "\n"
   ]
  },
  {
   "cell_type": "code",
   "execution_count": null,
   "metadata": {
    "Rmd_chunk_options": "create_path_to_mortgages, message = FALSE",
    "autoscroll": false,
    "collapsed": true
   },
   "outputs": [],
   "source": [
    "mort_path <- paste(rxGetOption(\"sampleDataDir\"), \"mortDefaultSmall.xdf\", sep = \"/\")\n",
    "file.copy(mort_path, \"mortgage.xdf\", overwrite = TRUE)\n",
    "mort_xdf <- RxXdfData(\"mortgage.xdf\")\n",
    "rxGetInfo(mort_xdf, getVarInfo = TRUE, numRows = 5)"
   ]
  },
  {
   "cell_type": "markdown",
   "metadata": {},
   "source": [
    "\n",
    "## Transform Default to Categorical\n",
    "\n",
    "- We might be interested in estimating a classification model for predicting defaults based on credit attributes\n",
    "\n"
   ]
  },
  {
   "cell_type": "code",
   "execution_count": null,
   "metadata": {
    "Rmd_chunk_options": "add_default_flag",
    "autoscroll": false,
    "collapsed": true
   },
   "outputs": [],
   "source": [
    "rxDataStep(inData = mort_xdf,\n",
    "           outFile = mort_xdf,\n",
    "           overwrite = TRUE,\n",
    "           transforms = list(default_flag = factor(ifelse(default == 1,\n",
    "                                                          \"default\",\n",
    "                                                          \"current\"))\n",
    "                             )\n",
    "           )\n",
    "rxGetInfo(mort_xdf, numRows = 3, getVarInfo = TRUE)"
   ]
  },
  {
   "cell_type": "markdown",
   "metadata": {},
   "source": [
    "\n",
    "\n",
    "# Modeling\n",
    "## Generating Training and Test Sets\n",
    "\n",
    "- The first step to estimating a model is having a tidy training dataset.\n",
    "- We will work with the mortgage data and use `rxSplit` to create partitions.\n",
    "- `rxSplit` splits an input `.xdf` into multiple `.xdfs`, similar in spirit to the `split` function in base R\n",
    "- output is a list\n",
    "- First step is to create a split variable\n",
    "- We will randomly partition the data into a train and test sample, with 75% in the former, and 25% in the latter\n",
    "\n",
    "## Partition Function\n",
    "\n"
   ]
  },
  {
   "cell_type": "code",
   "execution_count": null,
   "metadata": {
    "Rmd_chunk_options": "partition_function",
    "autoscroll": false,
    "collapsed": true
   },
   "outputs": [],
   "source": [
    "\n",
    "\n",
    "create_partition <- function(xdf = mort_xdf,\n",
    "                             partition_size = 0.75, ...) {\n",
    "  rxDataStep(inData = xdf,\n",
    "             outFile = xdf,\n",
    "             transforms = list(\n",
    "               trainvalidate = factor(\n",
    "                   ifelse(rbinom(.rxNumRows,\n",
    "                                 size = 1, prob = splitperc),\n",
    "                          \"train\", \"validate\")\n",
    "               )\n",
    "           ),\n",
    "           transformObjects = list(splitperc = partition_size),\n",
    "           overwrite = TRUE, ...)\n",
    "\n",
    "  splitDS <- rxSplit(inData = xdf,\n",
    "                     outFilesBase = ,\n",
    "                     outFileSuffixes = c(\"train\", \"validate\"),\n",
    "                     splitByFactor = \"trainvalidate\",\n",
    "                     overwrite = TRUE)\n",
    "\n",
    "  return(splitDS)\n",
    "\n",
    "}\n",
    ""
   ]
  },
  {
   "cell_type": "markdown",
   "metadata": {},
   "source": [
    "\n",
    "## Generating Training and Test Sets\n",
    "### List of xdfs\n",
    "\n",
    "- The `create_partition` function will output a list `xdfs`\n",
    "\n"
   ]
  },
  {
   "cell_type": "code",
   "execution_count": null,
   "metadata": {
    "Rmd_chunk_options": "split_mortgages_data",
    "autoscroll": false,
    "collapsed": true
   },
   "outputs": [],
   "source": [
    "mort_split <- create_partition(reportProgress = 0)\n",
    "names(mort_split) <- c(\"train\", \"validate\")\n",
    "lapply(mort_split, rxGetInfo)"
   ]
  },
  {
   "cell_type": "markdown",
   "metadata": {},
   "source": [
    "\n",
    "\n",
    "## Build Your Model\n",
    "### Model Formula\n",
    "\n",
    "- Once you have a training dataset, the most appropriate next step is to estimate your model\n",
    "- `RevoScaleR` provides a plethora of modeling functions to choose from: decision trees, ensemble trees, linear models, and generalized linear models\n",
    "- All take a formula as the first object in their call\n",
    "\n"
   ]
  },
  {
   "cell_type": "code",
   "execution_count": null,
   "metadata": {
    "Rmd_chunk_options": "model_function",
    "autoscroll": false,
    "collapsed": true
   },
   "outputs": [],
   "source": [
    "make_form <- function(xdf = mort_xdf,\n",
    "                      resp_var = \"default_flag\",\n",
    "                      vars_to_skip = c(\"default\", \"trainvalidate\")) {\n",
    "\n",
    "  library(stringr)\n",
    "\n",
    "  non_incl <- paste(vars_to_skip, collapse = \"|\")\n",
    "\n",
    "  x_names <- names(xdf)\n",
    "\n",
    "  features <- x_names[!str_detect(x_names, resp_var)]\n",
    "  features <- features[!str_detect(features, non_incl)]\n",
    "\n",
    "  form <- as.formula(paste(resp_var, paste0(features, collapse = \" + \"),\n",
    "                           sep  = \" ~ \"))\n",
    "\n",
    "  return(form)\n",
    "}\n",
    "\n",
    "## Turns out, RevoScaleR already has a function for this\n",
    "formula(mort_xdf, depVar = \"default_flag\", varsToDrop = c(\"defaultflag\", \"trainvalidate\"))\n",
    "\n",
    ""
   ]
  },
  {
   "cell_type": "markdown",
   "metadata": {},
   "source": [
    "\n",
    "## Build Your Model\n",
    "### Modeling Function\n",
    "\n",
    "- Use the `make_form` function inside your favorite `rx` modeling function\n",
    "- Default value will be a logistic regression, but can update the `model` parameter to any `rx` modeling function\n",
    "\n"
   ]
  },
  {
   "cell_type": "code",
   "execution_count": null,
   "metadata": {
    "Rmd_chunk_options": "train_function",
    "autoscroll": false,
    "collapsed": true
   },
   "outputs": [],
   "source": [
    "\n",
    "make_form()\n",
    "\n",
    "estimate_model <- function(xdf_data = mort_split[[\"train\"]],\n",
    "                           form = make_form(xdf_data),\n",
    "                           model = rxLogit, ...) {\n",
    "\n",
    "  rx_model <- model(form, data = xdf_data, ...)\n",
    "\n",
    "  return(rx_model)\n",
    "\n",
    "\n",
    "}\n",
    ""
   ]
  },
  {
   "cell_type": "markdown",
   "metadata": {},
   "source": [
    "\n",
    "## Build Your Model\n",
    "### Train Your Model with Our Modeling Function\n",
    "\n",
    "- Let us now train our logistic regression model for defaults using the `estimate_model` function from the last slide\n",
    "\n"
   ]
  },
  {
   "cell_type": "code",
   "execution_count": null,
   "metadata": {
    "Rmd_chunk_options": "train_models, message = FALSE",
    "autoscroll": false,
    "collapsed": true
   },
   "outputs": [],
   "source": [
    "default_model_logit <- estimate_model(mort_split$train,\n",
    "                                      reportProgress = 0)\n",
    "summary(default_model_logit)\n",
    ""
   ]
  },
  {
   "cell_type": "markdown",
   "metadata": {},
   "source": [
    "\n",
    "\n",
    "## Building Additional Models\n",
    "\n",
    "- We can change the parameters of the `estimate_model` function to create a different model relatively quickly\n",
    "\n"
   ]
  },
  {
   "cell_type": "code",
   "execution_count": null,
   "metadata": {
    "Rmd_chunk_options": "train_tree",
    "autoscroll": false,
    "collapsed": true
   },
   "outputs": [],
   "source": [
    "default_model_tree <- estimate_model(mort_split$train,\n",
    "                                     model = rxDTree,\n",
    "                                     minBucket = 10,\n",
    "                                     reportProgress = 0)\n",
    "summary(default_model_tree)\n",
    "library(RevoTreeView)\n",
    "plot(createTreeView(default_model_tree))\n",
    ""
   ]
  },
  {
   "cell_type": "markdown",
   "metadata": {},
   "source": [
    "\n",
    "\n",
    "# Validation\n",
    "## How Does it Perform on Unseen Data\n",
    "### rxPredict for Logistic Regression\n",
    "\n"
   ]
  },
  {
   "cell_type": "code",
   "execution_count": null,
   "metadata": {
    "Rmd_chunk_options": "remove_any_older_xdf, echo = FALSE, message = F",
    "autoscroll": false,
    "collapsed": true
   },
   "outputs": [],
   "source": [
    "if(file.exists(\"scored.xdf\")) file.remove('scored.xdf')"
   ]
  },
  {
   "cell_type": "markdown",
   "metadata": {},
   "source": [
    "\n",
    "- Now that we have built our model, our next step is to see how it performs on data it has yet to see\n",
    "- We can use the `rxPredict` function to score/validate our results\n",
    "\n"
   ]
  },
  {
   "cell_type": "code",
   "execution_count": null,
   "metadata": {
    "Rmd_chunk_options": "test_logistic_model",
    "autoscroll": false,
    "collapsed": true
   },
   "outputs": [],
   "source": [
    "\n",
    "default_logit_scored <- rxPredict(default_model_logit,\n",
    "                                   mort_split$validate,\n",
    "                                   \"scored.xdf\",\n",
    "                                  writeModelVars = TRUE,\n",
    "                                  extraVarsToWrite = \"default\",\n",
    "                                  predVarNames = c(\"pred_logit_default\"))\n",
    "rxGetInfo(default_logit_scored, numRows = 2)"
   ]
  },
  {
   "cell_type": "markdown",
   "metadata": {},
   "source": [
    "\n",
    "\n",
    "## Visualize Model Results\n",
    "\n"
   ]
  },
  {
   "cell_type": "code",
   "execution_count": null,
   "metadata": {
    "Rmd_chunk_options": "roc_curve",
    "autoscroll": false,
    "collapsed": true
   },
   "outputs": [],
   "source": [
    "rxRoc(actualVarName = \"default\", predVarNames =\"pred_logit_default\", data = default_logit_scored)\n",
    ""
   ]
  },
  {
   "cell_type": "markdown",
   "metadata": {},
   "source": [
    "\n",
    "\n",
    "## Testing a Second Model\n",
    "### rxPredict for Decision Tree\n",
    "\n",
    "- We saw how easy it was to train on different in the previous sections\n",
    "- Similary simple to test different models\n",
    "\n"
   ]
  },
  {
   "cell_type": "code",
   "execution_count": null,
   "metadata": {
    "Rmd_chunk_options": "test_d_tree_model",
    "autoscroll": false,
    "collapsed": true
   },
   "outputs": [],
   "source": [
    "default_tree_scored <- rxPredict(default_model_tree,\n",
    "                                  mort_split$validate,\n",
    "                                  \"scored.xdf\",\n",
    "                                  writeModelVars = TRUE,\n",
    "                                 predVarNames = c(\"pred_tree_current\",\n",
    "                                                  \"pred_tree_default\"))\n",
    ""
   ]
  },
  {
   "cell_type": "markdown",
   "metadata": {},
   "source": [
    "\n",
    "## Visualize Multiple ROCs\n",
    "\n"
   ]
  },
  {
   "cell_type": "code",
   "execution_count": null,
   "metadata": {
    "Rmd_chunk_options": "roc_multiple",
    "autoscroll": false,
    "collapsed": true
   },
   "outputs": [],
   "source": [
    "rxRocCurve(\"default\",\n",
    "           c(\"pred_logit_default\", \"pred_tree_default\"),\n",
    "           data = default_tree_scored)\n",
    ""
   ]
  },
  {
   "cell_type": "markdown",
   "metadata": {},
   "source": [
    "\n",
    "# Lab - Estimate Other Models Using the Functions Above\n",
    "\n",
    "## Ensemble Tree Algorithms\n",
    "\n",
    "Two of the most predictive algorithms in the `RevoScaleR` package are the `rxBTrees` and `rxDForest` algorithms, for gradient boosted decision trees and random forests, respectively.\n",
    "\n",
    "Use the above functions and estimate a model for each of those algorithms, and add them to the `default_tree_scored` dataset to visualize ROC and AUC metrics.\n",
    "\n"
   ]
  },
  {
   "cell_type": "code",
   "execution_count": null,
   "metadata": {
    "Rmd_chunk_options": "eval = FALSE",
    "autoscroll": false,
    "collapsed": true
   },
   "outputs": [],
   "source": [
    "\n",
    "## Starter code\n",
    "\n",
    "default_model_forest <- estimate_model(mort_split$train,\n",
    "                                       model = ...)\n",
    "\n",
    "default_tree_scored <- rxPredict(default_model_forest,\n",
    "                                  mort_split$validate,\n",
    "                                 ...)\n",
    "\n",
    "## same for rxBTrees\n",
    "\n",
    ""
   ]
  },
  {
   "cell_type": "markdown",
   "metadata": {},
   "source": [
    "\n",
    "\n",
    "# More Advanced Topics\n",
    "\n",
    "## Scoring on Non-XDF Data Sources\n",
    "### Using a CSV as a Data Source\n",
    "\n",
    "- The previous slides focused on using xdf data sources\n",
    "- Most of the `rx` functions will work on non-xdf data sources\n",
    "- For training, which is often an iterative process, it is recommended to use xdfs\n",
    "- For scoring/testing, which requires just one pass through the data, feel free to use raw data!\n",
    "\n"
   ]
  },
  {
   "cell_type": "code",
   "execution_count": null,
   "metadata": {
    "Rmd_chunk_options": "csv_copy",
    "autoscroll": false,
    "collapsed": true
   },
   "outputs": [],
   "source": [
    "\n",
    "csv_path <- paste(rxGetOption(\"sampleDataDir\"),\n",
    "                   \"mortDefaultSmall2009.csv\",\n",
    "                   sep = \"/\")\n",
    "file.copy(csv_path, \"mortDefaultSmall2009.csv\", overwrite = TRUE)\n",
    "\n",
    "mort_csv <- RxTextData(\"mortDefaultSmall2009.csv\")\n",
    ""
   ]
  },
  {
   "cell_type": "markdown",
   "metadata": {},
   "source": [
    "\n",
    "## Regression Tree\n",
    "\n",
    "- For a slightly different model, we will estimate a regression tree.\n",
    "- Just change the parameters in the `estimate_model` function\n",
    "\n"
   ]
  },
  {
   "cell_type": "code",
   "execution_count": null,
   "metadata": {
    "Rmd_chunk_options": "reg_tree",
    "autoscroll": false,
    "collapsed": true
   },
   "outputs": [],
   "source": [
    "tree_model_ccdebt <- estimate_model(xdf_data = mort_split$train,\n",
    "                                    form = make_form(mort_split$train,\n",
    "                                                     \"ccDebt\",\n",
    "                                                     vars_to_skip = c(\"default_flag\",\n",
    "                                                                      \"trainvalidate\")),\n",
    "                                    model = rxDTree)\n",
    "# plot(RevoTreeView::createTreeView(tree_model_ccdebt))\n",
    ""
   ]
  },
  {
   "cell_type": "markdown",
   "metadata": {},
   "source": [
    "\n",
    "\n",
    "## Test on CSV\n",
    "\n"
   ]
  },
  {
   "cell_type": "code",
   "execution_count": null,
   "metadata": {
    "Rmd_chunk_options": "message = FALSE, warnings = FALSE",
    "autoscroll": false,
    "collapsed": true
   },
   "outputs": [],
   "source": [
    "if (file.exists(\"mort2009predictions.xdf\")) file.remove(\"mort2009predictions.xdf\")"
   ]
  },
  {
   "cell_type": "code",
   "execution_count": null,
   "metadata": {
    "Rmd_chunk_options": "test_csv",
    "autoscroll": false,
    "collapsed": true
   },
   "outputs": [],
   "source": [
    "\n",
    "rxPredict(tree_model_ccdebt,\n",
    "          data = mort_csv,\n",
    "          outData = \"mort2009predictions.xdf\",\n",
    "          writeModelVars = TRUE)\n",
    "\n",
    "mort_2009_pred <- RxXdfData(\"mort2009predictions.xdf\")\n",
    "rxGetInfo(mort_2009_pred, numRows = 1)\n",
    "\n",
    ""
   ]
  },
  {
   "cell_type": "markdown",
   "metadata": {},
   "source": [
    "\n",
    "# Multiclass Classification\n",
    "## Convert Year to Factor\n",
    "\n",
    "- We have seen how to estimate a binary classification model and a regression tree\n",
    "- How would we estimate a multiclass classification model?\n",
    "- Let's try to predict mortgage origination based on other variables\n",
    "- Use `rxFactors` to convert *year* to a _factor_ variable\n",
    "\n"
   ]
  },
  {
   "cell_type": "code",
   "execution_count": null,
   "metadata": {
    "Rmd_chunk_options": "create_year_factor",
    "autoscroll": false,
    "collapsed": true
   },
   "outputs": [],
   "source": [
    "\n",
    "mort_xdf_factor <- rxFactors(inData = mort_xdf,\n",
    "                             factorInfo = c(\"year\"),\n",
    "                             outFile = \"mort_year.xdf\",\n",
    "                             overwrite = TRUE)\n",
    "\n",
    ""
   ]
  },
  {
   "cell_type": "markdown",
   "metadata": {},
   "source": [
    "\n",
    "## Convert Year to Factor\n"
   ]
  },
  {
   "cell_type": "code",
   "execution_count": null,
   "metadata": {
    "Rmd_chunk_options": "view_multiclass",
    "autoscroll": false,
    "collapsed": true
   },
   "outputs": [],
   "source": [
    "rxGetInfo(mort_xdf_factor, getVarInfo = TRUE, numRows = 4)\n",
    "\n",
    ""
   ]
  },
  {
   "cell_type": "markdown",
   "metadata": {},
   "source": [
    "\n",
    "## Estimate Multiclass Classification\n",
    "\n",
    "- You know the drill! Change the parameters in `estimate_model`:\n",
    "\n"
   ]
  },
  {
   "cell_type": "code",
   "execution_count": null,
   "metadata": {
    "Rmd_chunk_options": "multiclass_tree, eval = FALSE",
    "autoscroll": false,
    "collapsed": true
   },
   "outputs": [],
   "source": [
    "tree_multiclass_year <- estimate_model(xdf_data = mort_xdf_factor,\n",
    "                                    form = make_form(mort_xdf_factor,\n",
    "                                                     \"year\",\n",
    "                                                     vars_to_skip = c(\"default\",\n",
    "                                                                      \"trainvalidate\")),\n",
    "                                    model = rxDTree)\n",
    "\n",
    ""
   ]
  },
  {
   "cell_type": "markdown",
   "metadata": {},
   "source": [
    "\n",
    "## Predict Multiclass Classification\n",
    "\n",
    "- Score the results\n",
    "\n"
   ]
  },
  {
   "cell_type": "code",
   "execution_count": null,
   "metadata": {
    "Rmd_chunk_options": "multiclass_prediction, eval = FALSE",
    "autoscroll": false,
    "collapsed": true
   },
   "outputs": [],
   "source": [
    "\n",
    "multiclass_preds <- rxPredict(tree_multiclass_year,\n",
    "                              data = mort_xdf_factor,\n",
    "                              writeModelVars = TRUE,\n",
    "                              outData = \"multi.xdf\",\n",
    "                              overwrite = TRUE)\n",
    ""
   ]
  },
  {
   "cell_type": "markdown",
   "metadata": {},
   "source": [
    "\n",
    "## Predict Multiclass Classification\n",
    "\n",
    "- View the results\n",
    "- Predicted/scored column for each level of the response\n",
    "- Sum up to one\n"
   ]
  },
  {
   "cell_type": "code",
   "execution_count": null,
   "metadata": {
    "Rmd_chunk_options": "multiclass_view, eval = FALSE",
    "autoscroll": false,
    "collapsed": true
   },
   "outputs": [],
   "source": [
    "\n",
    "rxGetInfo(multiclass_preds, numRows = 3)\n",
    ""
   ]
  },
  {
   "cell_type": "markdown",
   "metadata": {},
   "source": [
    "\n",
    "\n",
    "## Conclusion\n",
    "### Thanks for Attending!\n",
    "\n",
    "- Any questions?\n",
    "- Try different models!\n",
    "- Try modeling with `rxDForest`, `rxBTrees`: have significantly higher predictive accuracy, somewhat less interpretability\n"
   ]
  }
 ],
 "metadata": {
  "Rmd_header": {
   "author": "Ali Zaidi",
   "date": "September 21, 2016",
   "output": {
    "beamer_presentation": "default",
    "ioslides_presentation": {
     "logo": "images/clark-logo.png",
     "smaller": true,
     "widescreen": true
    },
    "revealjs::revealjs_presentation": {
     "reveal_options": {
      "previewLinks": true,
      "slideNumber": true
     },
     "reveal_plugins": [
      "zoom",
      "notes"
     ],
     "self_contained": false,
     "theme": "night",
     "transition": "default"
    },
    "slidy_presentation": "default",
    "transition": "rotate"
   },
   "title": "Modeling and Scoring with Revolution R Enterprise"
  },
  "kernelspec": {
   "display_name": "R",
   "language": "R",
   "name": "ir"
  },
  "language_info": {
   "codemirror_mode": "r",
   "file_extension": ".r",
   "mimetype": "text/x-r-source",
   "name": "R",
   "pygments_lexer": "r"
  }
 },
 "nbformat": 4,
 "nbformat_minor": 0
}
